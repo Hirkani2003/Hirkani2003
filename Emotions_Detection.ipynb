{
  "nbformat": 4,
  "nbformat_minor": 0,
  "metadata": {
    "colab": {
      "provenance": [],
      "collapsed_sections": []
    },
    "kernelspec": {
      "name": "python3",
      "display_name": "Python 3"
    },
    "language_info": {
      "name": "python"
    },
    "accelerator": "GPU"
  },
  "cells": [
    {
      "cell_type": "code",
      "source": [
        "import pandas as pd\n",
        "import seaborn as sns\n",
        "import matplotlib.pyplot as plt\n",
        "import numpy as np "
      ],
      "metadata": {
        "id": "Su7QhAG_8mVB"
      },
      "execution_count": 2,
      "outputs": []
    },
    {
      "cell_type": "code",
      "execution_count": 4,
      "metadata": {
        "id": "CUVGz1-O7RNY"
      },
      "outputs": [],
      "source": [
        "train = pd.read_csv(\"/content/drive/MyDrive/data/emotions_detection/train.txt\", sep=\";\", header=None, names=[\"Comment\", \"Emotion\"])"
      ]
    },
    {
      "cell_type": "code",
      "source": [
        "test = pd.read_csv(\"/content/drive/MyDrive/data/emotions_detection/test.txt\", sep=\";\", header=None, names=[\"Comment\", \"Emotion\"])\n",
        "val = pd.read_csv(\"/content/drive/MyDrive/data/emotions_detection/val.txt\", sep=\";\", header=None, names=[\"Comment\", \"Emotion\"])"
      ],
      "metadata": {
        "id": "docpLPVp9X62"
      },
      "execution_count": 5,
      "outputs": []
    },
    {
      "cell_type": "code",
      "source": [
        "emotion_df = pd.concat([train, test, val])\n",
        "emotion_df.head()"
      ],
      "metadata": {
        "colab": {
          "base_uri": "https://localhost:8080/",
          "height": 206
        },
        "id": "SjlUZMjT9iQE",
        "outputId": "8cdfab8f-a311-48a0-ca38-6c656186c1e9"
      },
      "execution_count": 6,
      "outputs": [
        {
          "output_type": "execute_result",
          "data": {
            "text/plain": [
              "                                             Comment  Emotion\n",
              "0                            i didnt feel humiliated  sadness\n",
              "1  i can go from feeling so hopeless to so damned...  sadness\n",
              "2   im grabbing a minute to post i feel greedy wrong    anger\n",
              "3  i am ever feeling nostalgic about the fireplac...     love\n",
              "4                               i am feeling grouchy    anger"
            ],
            "text/html": [
              "\n",
              "  <div id=\"df-ec944168-8839-4e0b-9db4-a9203c2c35ba\">\n",
              "    <div class=\"colab-df-container\">\n",
              "      <div>\n",
              "<style scoped>\n",
              "    .dataframe tbody tr th:only-of-type {\n",
              "        vertical-align: middle;\n",
              "    }\n",
              "\n",
              "    .dataframe tbody tr th {\n",
              "        vertical-align: top;\n",
              "    }\n",
              "\n",
              "    .dataframe thead th {\n",
              "        text-align: right;\n",
              "    }\n",
              "</style>\n",
              "<table border=\"1\" class=\"dataframe\">\n",
              "  <thead>\n",
              "    <tr style=\"text-align: right;\">\n",
              "      <th></th>\n",
              "      <th>Comment</th>\n",
              "      <th>Emotion</th>\n",
              "    </tr>\n",
              "  </thead>\n",
              "  <tbody>\n",
              "    <tr>\n",
              "      <th>0</th>\n",
              "      <td>i didnt feel humiliated</td>\n",
              "      <td>sadness</td>\n",
              "    </tr>\n",
              "    <tr>\n",
              "      <th>1</th>\n",
              "      <td>i can go from feeling so hopeless to so damned...</td>\n",
              "      <td>sadness</td>\n",
              "    </tr>\n",
              "    <tr>\n",
              "      <th>2</th>\n",
              "      <td>im grabbing a minute to post i feel greedy wrong</td>\n",
              "      <td>anger</td>\n",
              "    </tr>\n",
              "    <tr>\n",
              "      <th>3</th>\n",
              "      <td>i am ever feeling nostalgic about the fireplac...</td>\n",
              "      <td>love</td>\n",
              "    </tr>\n",
              "    <tr>\n",
              "      <th>4</th>\n",
              "      <td>i am feeling grouchy</td>\n",
              "      <td>anger</td>\n",
              "    </tr>\n",
              "  </tbody>\n",
              "</table>\n",
              "</div>\n",
              "      <button class=\"colab-df-convert\" onclick=\"convertToInteractive('df-ec944168-8839-4e0b-9db4-a9203c2c35ba')\"\n",
              "              title=\"Convert this dataframe to an interactive table.\"\n",
              "              style=\"display:none;\">\n",
              "        \n",
              "  <svg xmlns=\"http://www.w3.org/2000/svg\" height=\"24px\"viewBox=\"0 0 24 24\"\n",
              "       width=\"24px\">\n",
              "    <path d=\"M0 0h24v24H0V0z\" fill=\"none\"/>\n",
              "    <path d=\"M18.56 5.44l.94 2.06.94-2.06 2.06-.94-2.06-.94-.94-2.06-.94 2.06-2.06.94zm-11 1L8.5 8.5l.94-2.06 2.06-.94-2.06-.94L8.5 2.5l-.94 2.06-2.06.94zm10 10l.94 2.06.94-2.06 2.06-.94-2.06-.94-.94-2.06-.94 2.06-2.06.94z\"/><path d=\"M17.41 7.96l-1.37-1.37c-.4-.4-.92-.59-1.43-.59-.52 0-1.04.2-1.43.59L10.3 9.45l-7.72 7.72c-.78.78-.78 2.05 0 2.83L4 21.41c.39.39.9.59 1.41.59.51 0 1.02-.2 1.41-.59l7.78-7.78 2.81-2.81c.8-.78.8-2.07 0-2.86zM5.41 20L4 18.59l7.72-7.72 1.47 1.35L5.41 20z\"/>\n",
              "  </svg>\n",
              "      </button>\n",
              "      \n",
              "  <style>\n",
              "    .colab-df-container {\n",
              "      display:flex;\n",
              "      flex-wrap:wrap;\n",
              "      gap: 12px;\n",
              "    }\n",
              "\n",
              "    .colab-df-convert {\n",
              "      background-color: #E8F0FE;\n",
              "      border: none;\n",
              "      border-radius: 50%;\n",
              "      cursor: pointer;\n",
              "      display: none;\n",
              "      fill: #1967D2;\n",
              "      height: 32px;\n",
              "      padding: 0 0 0 0;\n",
              "      width: 32px;\n",
              "    }\n",
              "\n",
              "    .colab-df-convert:hover {\n",
              "      background-color: #E2EBFA;\n",
              "      box-shadow: 0px 1px 2px rgba(60, 64, 67, 0.3), 0px 1px 3px 1px rgba(60, 64, 67, 0.15);\n",
              "      fill: #174EA6;\n",
              "    }\n",
              "\n",
              "    [theme=dark] .colab-df-convert {\n",
              "      background-color: #3B4455;\n",
              "      fill: #D2E3FC;\n",
              "    }\n",
              "\n",
              "    [theme=dark] .colab-df-convert:hover {\n",
              "      background-color: #434B5C;\n",
              "      box-shadow: 0px 1px 3px 1px rgba(0, 0, 0, 0.15);\n",
              "      filter: drop-shadow(0px 1px 2px rgba(0, 0, 0, 0.3));\n",
              "      fill: #FFFFFF;\n",
              "    }\n",
              "  </style>\n",
              "\n",
              "      <script>\n",
              "        const buttonEl =\n",
              "          document.querySelector('#df-ec944168-8839-4e0b-9db4-a9203c2c35ba button.colab-df-convert');\n",
              "        buttonEl.style.display =\n",
              "          google.colab.kernel.accessAllowed ? 'block' : 'none';\n",
              "\n",
              "        async function convertToInteractive(key) {\n",
              "          const element = document.querySelector('#df-ec944168-8839-4e0b-9db4-a9203c2c35ba');\n",
              "          const dataTable =\n",
              "            await google.colab.kernel.invokeFunction('convertToInteractive',\n",
              "                                                     [key], {});\n",
              "          if (!dataTable) return;\n",
              "\n",
              "          const docLinkHtml = 'Like what you see? Visit the ' +\n",
              "            '<a target=\"_blank\" href=https://colab.research.google.com/notebooks/data_table.ipynb>data table notebook</a>'\n",
              "            + ' to learn more about interactive tables.';\n",
              "          element.innerHTML = '';\n",
              "          dataTable['output_type'] = 'display_data';\n",
              "          await google.colab.output.renderOutput(dataTable, element);\n",
              "          const docLink = document.createElement('div');\n",
              "          docLink.innerHTML = docLinkHtml;\n",
              "          element.appendChild(docLink);\n",
              "        }\n",
              "      </script>\n",
              "    </div>\n",
              "  </div>\n",
              "  "
            ]
          },
          "metadata": {},
          "execution_count": 6
        }
      ]
    },
    {
      "cell_type": "code",
      "source": [
        "!pip install spacy"
      ],
      "metadata": {
        "id": "dFwWlcWo9smm"
      },
      "execution_count": null,
      "outputs": []
    },
    {
      "cell_type": "code",
      "source": [
        "import spacy\n",
        "spacy.cli.download(\"en_core_web_sm\")\n",
        "nlp = spacy.load(\"en_core_web_sm\")"
      ],
      "metadata": {
        "colab": {
          "base_uri": "https://localhost:8080/"
        },
        "id": "Wu3j_hCmukdi",
        "outputId": "457bac07-cdbb-4c86-a897-04df8888f021"
      },
      "execution_count": 8,
      "outputs": [
        {
          "output_type": "stream",
          "name": "stdout",
          "text": [
            "\u001b[38;5;2m✔ Download and installation successful\u001b[0m\n",
            "You can now load the package via spacy.load('en_core_web_sm')\n"
          ]
        }
      ]
    },
    {
      "cell_type": "code",
      "source": [
        "def preprocess(text):\n",
        "    # remove stop words and lemmatize the text\n",
        "    doc = nlp(text)\n",
        "    filtered_tokens = []\n",
        "    for token in doc:\n",
        "        if token.is_stop or token.is_punct:\n",
        "            continue\n",
        "        filtered_tokens.append(token.lemma_)\n",
        "    \n",
        "    return \" \".join(filtered_tokens)"
      ],
      "metadata": {
        "id": "3zz5Os1wuo7W"
      },
      "execution_count": 9,
      "outputs": []
    },
    {
      "cell_type": "code",
      "source": [
        "plt.figure(figsize=(8,8))\n",
        "sns.countplot(y='Emotion', data = emotion_df )"
      ],
      "metadata": {
        "colab": {
          "base_uri": "https://localhost:8080/",
          "height": 515
        },
        "id": "M2IS86XMuqsI",
        "outputId": "fcb599c0-4ac9-4f41-a78b-9b0e1b02b1b3"
      },
      "execution_count": 10,
      "outputs": [
        {
          "output_type": "execute_result",
          "data": {
            "text/plain": [
              "<matplotlib.axes._subplots.AxesSubplot at 0x7fca5a1e5d50>"
            ]
          },
          "metadata": {},
          "execution_count": 10
        },
        {
          "output_type": "display_data",
          "data": {
            "text/plain": [
              "<Figure size 576x576 with 1 Axes>"
            ],
            "image/png": "[encoded data removed]"
          },
          "metadata": {
            "needs_background": "light"
          }
        }
      ]
    },
    {
      "cell_type": "code",
      "source": [
        "emotion_df[\"Emotion\"].value_counts()"
      ],
      "metadata": {
        "colab": {
          "base_uri": "https://localhost:8080/"
        },
        "id": "vqcBG0nku6mz",
        "outputId": "11c1ede8-5d2e-4c5f-9601-2a61e65ae5fd"
      },
      "execution_count": 11,
      "outputs": [
        {
          "output_type": "execute_result",
          "data": {
            "text/plain": [
              "joy         6761\n",
              "sadness     5797\n",
              "anger       2709\n",
              "fear        2373\n",
              "love        1641\n",
              "surprise     719\n",
              "Name: Emotion, dtype: int64"
            ]
          },
          "metadata": {},
          "execution_count": 11
        }
      ]
    },
    {
      "cell_type": "code",
      "source": [
        "emt_dict = {\"anger\" : 0, \"fear\" : 1, \"joy\" : 2, \"love\" : 3, \"sadness\" : 4, \"surprise\" : 5}\n",
        "emotion_df['Emotion'] = emotion_df['Emotion'].replace(emt_dict)"
      ],
      "metadata": {
        "id": "9JPap2DsvxDt"
      },
      "execution_count": 12,
      "outputs": []
    },
    {
      "cell_type": "code",
      "source": [
        "emotion_df[\"Emotion\"].value_counts()"
      ],
      "metadata": {
        "colab": {
          "base_uri": "https://localhost:8080/"
        },
        "id": "iFtwUnAPxQl0",
        "outputId": "acf723f2-de8f-49b5-dbc2-64572dd562e1"
      },
      "execution_count": 13,
      "outputs": [
        {
          "output_type": "execute_result",
          "data": {
            "text/plain": [
              "2    6761\n",
              "4    5797\n",
              "0    2709\n",
              "1    2373\n",
              "3    1641\n",
              "5     719\n",
              "Name: Emotion, dtype: int64"
            ]
          },
          "metadata": {},
          "execution_count": 13
        }
      ]
    },
    {
      "cell_type": "code",
      "source": [
        "emotion_df[\"Comment_preprocessed\"] = emotion_df[\"Comment\"].apply(preprocess)"
      ],
      "metadata": {
        "id": "D35o5PGgxWJO"
      },
      "execution_count": 14,
      "outputs": []
    },
    {
      "cell_type": "code",
      "source": [
        "from sklearn.model_selection import train_test_split\n",
        "X_train, X_test, Y_train, Y_test = train_test_split(emotion_df[\"Comment_preprocessed\"], emotion_df[\"Emotion\"], test_size = 0.2, random_state = 52, stratify = emotion_df[\"Emotion\"])"
      ],
      "metadata": {
        "id": "XjGkysyjxwij"
      },
      "execution_count": 15,
      "outputs": []
    },
    {
      "cell_type": "code",
      "source": [
        "import math\n",
        "math.sqrt(len(Y_test))"
      ],
      "metadata": {
        "colab": {
          "base_uri": "https://localhost:8080/"
        },
        "id": "hADD1THlO9DM",
        "outputId": "c38fc6f1-6522-4db4-b2ea-9cde1b285ba6"
      },
      "execution_count": 16,
      "outputs": [
        {
          "output_type": "execute_result",
          "data": {
            "text/plain": [
              "63.245553203367585"
            ]
          },
          "metadata": {},
          "execution_count": 16
        }
      ]
    },
    {
      "cell_type": "code",
      "source": [
        "from sklearn.feature_extraction.text import TfidfVectorizer\n",
        "from sklearn.pipeline import Pipeline\n",
        "from sklearn.metrics import classification_report\n",
        "from sklearn.ensemble import RandomForestClassifier\n",
        "from sklearn.naive_bayes import MultinomialNB"
      ],
      "metadata": {
        "id": "I8-RYuqQxymm"
      },
      "execution_count": 17,
      "outputs": []
    },
    {
      "cell_type": "markdown",
      "source": [
        "# **Random Forest Classifier (TF-IDF)**\n"
      ],
      "metadata": {
        "id": "pVQ7ghgF1l0j"
      }
    },
    {
      "cell_type": "code",
      "source": [
        "clf_rf = Pipeline([\n",
        "    ('TF-IDF', TfidfVectorizer()),                       \n",
        "    ('random_forest', (RandomForestClassifier()))  #RandomForestClassifier       \n",
        "])\n",
        "clf_rf.fit(X_train, Y_train)\n",
        "y_pred_rf = clf_rf.predict(X_test)\n",
        "print(classification_report(Y_test, y_pred_rf))"
      ],
      "metadata": {
        "colab": {
          "base_uri": "https://localhost:8080/"
        },
        "id": "n_cTxeRXz14M",
        "outputId": "a3ed0a91-5a16-443a-f017-91672a5bd0d1"
      },
      "execution_count": 18,
      "outputs": [
        {
          "output_type": "stream",
          "name": "stdout",
          "text": [
            "              precision    recall  f1-score   support\n",
            "\n",
            "           0       0.86      0.82      0.84       542\n",
            "           1       0.83      0.85      0.84       475\n",
            "           2       0.84      0.90      0.87      1352\n",
            "           3       0.80      0.67      0.73       328\n",
            "           4       0.91      0.88      0.89      1159\n",
            "           5       0.74      0.76      0.75       144\n",
            "\n",
            "    accuracy                           0.86      4000\n",
            "   macro avg       0.83      0.82      0.82      4000\n",
            "weighted avg       0.86      0.86      0.85      4000\n",
            "\n"
          ]
        }
      ]
    },
    {
      "cell_type": "code",
      "source": [
        "from sklearn.metrics import confusion_matrix\n",
        "cm_rf = confusion_matrix(Y_test, y_pred_rf)\n",
        "plt.figure(figsize = (10,7))\n",
        "sns.heatmap(cm_rf, annot=True, fmt='d')\n",
        "plt.xlabel('Prediction')\n",
        "plt.ylabel('Truth')"
      ],
      "metadata": {
        "colab": {
          "base_uri": "https://localhost:8080/",
          "height": 460
        },
        "id": "pTzkdTlC0_H7",
        "outputId": "e9beab05-33a7-4ac3-94e2-071f702ef515"
      },
      "execution_count": 19,
      "outputs": [
        {
          "output_type": "execute_result",
          "data": {
            "text/plain": [
              "Text(69.0, 0.5, 'Truth')"
            ]
          },
          "metadata": {},
          "execution_count": 19
        },
        {
          "output_type": "display_data",
          "data": {
            "text/plain": [
              "<Figure size 720x504 with 2 Axes>"
            ],
            "image/png": "[encoded data removed]"
          },
          "metadata": {
            "needs_background": "light"
          }
        }
      ]
    },
    {
      "cell_type": "code",
      "source": [
        "clf_rf = Pipeline([\n",
        "    ('TF-IDF', TfidfVectorizer(ngram_range = (1, 2))),                       \n",
        "    ('random_forest', (RandomForestClassifier()))  #RandomForestClassifier       \n",
        "])\n",
        "clf_rf.fit(X_train, Y_train)\n",
        "y_pred_rf = clf_rf.predict(X_test)\n",
        "print(classification_report(Y_test, y_pred_rf))"
      ],
      "metadata": {
        "colab": {
          "base_uri": "https://localhost:8080/"
        },
        "id": "5NMdkUQ-_FuX",
        "outputId": "7b218d62-f94e-4137-8ea3-ca1bd2edd6e2"
      },
      "execution_count": 38,
      "outputs": [
        {
          "output_type": "stream",
          "name": "stdout",
          "text": [
            "              precision    recall  f1-score   support\n",
            "\n",
            "           0       0.90      0.81      0.85       542\n",
            "           1       0.88      0.81      0.85       475\n",
            "           2       0.84      0.93      0.88      1352\n",
            "           3       0.83      0.68      0.75       328\n",
            "           4       0.90      0.91      0.90      1159\n",
            "           5       0.77      0.72      0.74       144\n",
            "\n",
            "    accuracy                           0.87      4000\n",
            "   macro avg       0.85      0.81      0.83      4000\n",
            "weighted avg       0.87      0.87      0.86      4000\n",
            "\n"
          ]
        }
      ]
    },
    {
      "cell_type": "code",
      "source": [
        "cm_rf = confusion_matrix(Y_test, y_pred_rf)\n",
        "plt.figure(figsize = (10,7))\n",
        "sns.heatmap(cm_rf, annot=True, fmt='d')\n",
        "plt.xlabel('Prediction')\n",
        "plt.ylabel('Truth')"
      ],
      "metadata": {
        "colab": {
          "base_uri": "https://localhost:8080/",
          "height": 460
        },
        "id": "MokaOEEo_XFx",
        "outputId": "d8afabcb-ec5b-4148-bc23-3d4c89c53969"
      },
      "execution_count": 39,
      "outputs": [
        {
          "output_type": "execute_result",
          "data": {
            "text/plain": [
              "Text(69.0, 0.5, 'Truth')"
            ]
          },
          "metadata": {},
          "execution_count": 39
        },
        {
          "output_type": "display_data",
          "data": {
            "text/plain": [
              "<Figure size 720x504 with 2 Axes>"
            ],
            "image/png": "[encoded data removed]"
          },
          "metadata": {
            "needs_background": "light"
          }
        }
      ]
    },
    {
      "cell_type": "markdown",
      "source": [
        "# **MultiNomial NB (TF-IDF)**"
      ],
      "metadata": {
        "id": "pkWE_ITt1qr-"
      }
    },
    {
      "cell_type": "code",
      "source": [
        "clf_nb = Pipeline([\n",
        "    ('TF-IDF', TfidfVectorizer()), \n",
        "    ('MultinomialNB', (MultinomialNB())) #MultiNomialNB        \n",
        "])\n",
        "clf_nb.fit(X_train, Y_train)\n",
        "y_pred_nb = clf_nb.predict(X_test)\n",
        "print(classification_report(Y_test, y_pred_nb))"
      ],
      "metadata": {
        "colab": {
          "base_uri": "https://localhost:8080/"
        },
        "id": "VOK-ZeSN1jAN",
        "outputId": "02035855-60a9-49b4-a0ae-19ba3110303c"
      },
      "execution_count": 22,
      "outputs": [
        {
          "output_type": "stream",
          "name": "stdout",
          "text": [
            "              precision    recall  f1-score   support\n",
            "\n",
            "           0       0.93      0.36      0.52       542\n",
            "           1       0.93      0.30      0.45       475\n",
            "           2       0.64      0.97      0.77      1352\n",
            "           3       0.97      0.09      0.16       328\n",
            "           4       0.69      0.92      0.79      1159\n",
            "           5       1.00      0.01      0.03       144\n",
            "\n",
            "    accuracy                           0.69      4000\n",
            "   macro avg       0.86      0.44      0.45      4000\n",
            "weighted avg       0.77      0.69      0.63      4000\n",
            "\n"
          ]
        }
      ]
    },
    {
      "cell_type": "code",
      "source": [
        "cm_nb = confusion_matrix(Y_test, y_pred_nb)\n",
        "plt.figure(figsize = (10,7))\n",
        "sns.heatmap(cm_nb, annot=True, fmt='d')\n",
        "plt.xlabel('Prediction')\n",
        "plt.ylabel('Truth')"
      ],
      "metadata": {
        "colab": {
          "base_uri": "https://localhost:8080/",
          "height": 460
        },
        "id": "ogFdS8W3_vt1",
        "outputId": "2cb91308-28e6-49d9-ef22-1fae2c856789"
      },
      "execution_count": 23,
      "outputs": [
        {
          "output_type": "execute_result",
          "data": {
            "text/plain": [
              "Text(69.0, 0.5, 'Truth')"
            ]
          },
          "metadata": {},
          "execution_count": 23
        },
        {
          "output_type": "display_data",
          "data": {
            "text/plain": [
              "<Figure size 720x504 with 2 Axes>"
            ],
            "image/png": "[encoded data removed]"
          },
          "metadata": {
            "needs_background": "light"
          }
        }
      ]
    },
    {
      "cell_type": "code",
      "source": [
        "clf_nb = Pipeline([\n",
        "    ('TF-IDF', TfidfVectorizer(ngram_range = (1, 2))), \n",
        "    ('Multinomial', (MultinomialNB())) #MultiNomialNB        \n",
        "])\n",
        "clf_nb.fit(X_train, Y_train)\n",
        "y_pred_nb = clf_nb.predict(X_test)\n",
        "print(classification_report(Y_test, y_pred_nb))"
      ],
      "metadata": {
        "colab": {
          "base_uri": "https://localhost:8080/"
        },
        "id": "K9s8gLFv_6yY",
        "outputId": "84374f97-9efb-4ee6-dbcd-b47eab7becd3"
      },
      "execution_count": 37,
      "outputs": [
        {
          "output_type": "stream",
          "name": "stdout",
          "text": [
            "              precision    recall  f1-score   support\n",
            "\n",
            "           0       0.96      0.32      0.47       542\n",
            "           1       0.93      0.29      0.45       475\n",
            "           2       0.61      0.98      0.75      1352\n",
            "           3       1.00      0.07      0.13       328\n",
            "           4       0.72      0.92      0.81      1159\n",
            "           5       1.00      0.02      0.04       144\n",
            "\n",
            "    accuracy                           0.68      4000\n",
            "   macro avg       0.87      0.43      0.44      4000\n",
            "weighted avg       0.77      0.68      0.62      4000\n",
            "\n"
          ]
        }
      ]
    },
    {
      "cell_type": "code",
      "source": [
        "cm_nb = confusion_matrix(Y_test, y_pred_nb)\n",
        "plt.figure(figsize = (10,7))\n",
        "sns.heatmap(cm_nb, annot=True, fmt='d')\n",
        "plt.xlabel('Prediction')\n",
        "plt.ylabel('Truth')"
      ],
      "metadata": {
        "colab": {
          "base_uri": "https://localhost:8080/",
          "height": 460
        },
        "id": "DcA7NkvKAAGH",
        "outputId": "d2aa7b00-4482-48ad-a472-04b3ab31e046"
      },
      "execution_count": 35,
      "outputs": [
        {
          "output_type": "execute_result",
          "data": {
            "text/plain": [
              "Text(69.0, 0.5, 'Truth')"
            ]
          },
          "metadata": {},
          "execution_count": 35
        },
        {
          "output_type": "display_data",
          "data": {
            "text/plain": [
              "<Figure size 720x504 with 2 Axes>"
            ],
            "image/png": "[encoded data removed]"
          },
          "metadata": {
            "needs_background": "light"
          }
        }
      ]
    },
    {
      "cell_type": "markdown",
      "source": [
        "# **KNearest Neighbors (TF-IDF)**"
      ],
      "metadata": {
        "id": "tx_1bTB4OoSX"
      }
    },
    {
      "cell_type": "code",
      "source": [
        "from sklearn.neighbors import KNeighborsClassifier"
      ],
      "metadata": {
        "id": "sHDn7d_LOt7J"
      },
      "execution_count": 40,
      "outputs": []
    },
    {
      "cell_type": "code",
      "source": [
        "clf_knn = Pipeline([\n",
        "    ('TF-IDF', TfidfVectorizer()), \n",
        "    ('KNN', (KNeighborsClassifier(metric = \"euclidean\", n_neighbors = 63))) #KNN     \n",
        "])\n",
        "clf_knn.fit(X_train, Y_train)\n",
        "y_pred_knn = clf_knn.predict(X_test)\n",
        "print(classification_report(Y_test, y_pred_knn)) "
      ],
      "metadata": {
        "colab": {
          "base_uri": "https://localhost:8080/"
        },
        "id": "P4-5Jv0APX_z",
        "outputId": "eff866b0-4137-4be6-ebea-da359c0f2ec9"
      },
      "execution_count": 28,
      "outputs": [
        {
          "output_type": "stream",
          "name": "stdout",
          "text": [
            "              precision    recall  f1-score   support\n",
            "\n",
            "           0       0.89      0.65      0.75       542\n",
            "           1       0.87      0.71      0.78       475\n",
            "           2       0.76      0.93      0.84      1352\n",
            "           3       0.84      0.40      0.54       328\n",
            "           4       0.78      0.91      0.84      1159\n",
            "           5       0.79      0.41      0.54       144\n",
            "\n",
            "    accuracy                           0.80      4000\n",
            "   macro avg       0.82      0.67      0.71      4000\n",
            "weighted avg       0.80      0.80      0.78      4000\n",
            "\n"
          ]
        }
      ]
    },
    {
      "cell_type": "code",
      "source": [
        "cm_knn = confusion_matrix(Y_test, y_pred_knn)\n",
        "plt.figure(figsize = (10,7))\n",
        "sns.heatmap(cm_nb, annot=True, fmt='d')\n",
        "plt.xlabel('Prediction')\n",
        "plt.ylabel('Truth')"
      ],
      "metadata": {
        "colab": {
          "base_uri": "https://localhost:8080/",
          "height": 460
        },
        "id": "hnPaFSxaRBed",
        "outputId": "0a057be5-a6b4-4966-f3fd-c08bca4fc517"
      },
      "execution_count": 29,
      "outputs": [
        {
          "output_type": "execute_result",
          "data": {
            "text/plain": [
              "Text(69.0, 0.5, 'Truth')"
            ]
          },
          "metadata": {},
          "execution_count": 29
        },
        {
          "output_type": "display_data",
          "data": {
            "text/plain": [
              "<Figure size 720x504 with 2 Axes>"
            ],
            "image/png": "[encoded data removed]"
          },
          "metadata": {
            "needs_background": "light"
          }
        }
      ]
    },
    {
      "cell_type": "code",
      "source": [
        "clf_knn = Pipeline([\n",
        "    ('TF-IDF', TfidfVectorizer(ngram_range = (1, 3))), \n",
        "    ('KNN', (KNeighborsClassifier(metric = \"euclidean\", n_neighbors = 63))) #KNN     \n",
        "])\n",
        "clf_knn.fit(X_train, Y_train)\n",
        "y_pred_knn = clf_knn.predict(X_test)\n",
        "print(classification_report(Y_test, y_pred_knn))"
      ],
      "metadata": {
        "colab": {
          "base_uri": "https://localhost:8080/"
        },
        "id": "G9qwakTORNnp",
        "outputId": "c66c0410-9229-4e65-d64c-5be04ae3cba5"
      },
      "execution_count": 33,
      "outputs": [
        {
          "output_type": "stream",
          "name": "stdout",
          "text": [
            "              precision    recall  f1-score   support\n",
            "\n",
            "           0       0.91      0.62      0.74       542\n",
            "           1       0.87      0.72      0.79       475\n",
            "           2       0.77      0.92      0.84      1352\n",
            "           3       0.91      0.41      0.57       328\n",
            "           4       0.74      0.91      0.81      1159\n",
            "           5       0.93      0.36      0.52       144\n",
            "\n",
            "    accuracy                           0.79      4000\n",
            "   macro avg       0.85      0.66      0.71      4000\n",
            "weighted avg       0.81      0.79      0.78      4000\n",
            "\n"
          ]
        }
      ]
    },
    {
      "cell_type": "code",
      "source": [
        "cm_knn = confusion_matrix(Y_test, y_pred_knn)\n",
        "plt.figure(figsize = (10,7))\n",
        "sns.heatmap(cm_nb, annot=True, fmt='d')\n",
        "plt.xlabel('Prediction')\n",
        "plt.ylabel('Truth')"
      ],
      "metadata": {
        "colab": {
          "base_uri": "https://localhost:8080/",
          "height": 460
        },
        "id": "ggQ7yF6CRVTA",
        "outputId": "9a872623-a851-44f6-e43a-022e12ce8b0b"
      },
      "execution_count": 31,
      "outputs": [
        {
          "output_type": "execute_result",
          "data": {
            "text/plain": [
              "Text(69.0, 0.5, 'Truth')"
            ]
          },
          "metadata": {},
          "execution_count": 31
        },
        {
          "output_type": "display_data",
          "data": {
            "text/plain": [
              "<Figure size 720x504 with 2 Axes>"
            ],
            "image/png": "[encoded data removed]"
          },
          "metadata": {
            "needs_background": "light"
          }
        }
      ]
    },
    {
      "cell_type": "markdown",
      "source": [],
      "metadata": {
        "id": "-wUOqLgHSwJV"
      }
    },
    {
      "cell_type": "markdown",
      "source": [
        "# **Random Forest Classifier (CountVectorizer)**"
      ],
      "metadata": {
        "id": "Kp0VuIxBS0-c"
      }
    },
    {
      "cell_type": "code",
      "source": [
        "from sklearn.feature_extraction.text import CountVectorizer\n",
        "clf_rf = Pipeline([\n",
        "    ('vectorizer', CountVectorizer()),                       \n",
        "    ('random_forest', (RandomForestClassifier()))  #RandomForestClassifier       \n",
        "])\n",
        "clf_rf.fit(X_train, Y_train)\n",
        "y_pred_rf = clf_rf.predict(X_test)\n",
        "print(classification_report(Y_test, y_pred_rf))"
      ],
      "metadata": {
        "colab": {
          "base_uri": "https://localhost:8080/"
        },
        "id": "8wZWm_MLS41b",
        "outputId": "dce16e53-d7ed-4f93-edb8-f26b4dc356da"
      },
      "execution_count": 41,
      "outputs": [
        {
          "output_type": "stream",
          "name": "stdout",
          "text": [
            "              precision    recall  f1-score   support\n",
            "\n",
            "           0       0.84      0.84      0.84       542\n",
            "           1       0.82      0.84      0.83       475\n",
            "           2       0.91      0.86      0.88      1352\n",
            "           3       0.71      0.77      0.74       328\n",
            "           4       0.88      0.89      0.88      1159\n",
            "           5       0.71      0.80      0.75       144\n",
            "\n",
            "    accuracy                           0.85      4000\n",
            "   macro avg       0.81      0.83      0.82      4000\n",
            "weighted avg       0.86      0.85      0.85      4000\n",
            "\n"
          ]
        }
      ]
    },
    {
      "cell_type": "code",
      "source": [
        "cm_rf = confusion_matrix(Y_test, y_pred_rf)\n",
        "plt.figure(figsize = (10,7))\n",
        "sns.heatmap(cm_rf, annot=True, fmt='d')\n",
        "plt.xlabel('Prediction')\n",
        "plt.ylabel('Truth')"
      ],
      "metadata": {
        "colab": {
          "base_uri": "https://localhost:8080/",
          "height": 460
        },
        "id": "UpzuTnZYTG6i",
        "outputId": "e81d8cb1-5532-4b13-b61b-d8b95acc758e"
      },
      "execution_count": 42,
      "outputs": [
        {
          "output_type": "execute_result",
          "data": {
            "text/plain": [
              "Text(69.0, 0.5, 'Truth')"
            ]
          },
          "metadata": {},
          "execution_count": 42
        },
        {
          "output_type": "display_data",
          "data": {
            "text/plain": [
              "<Figure size 720x504 with 2 Axes>"
            ],
            "image/png": "[encoded data removed]"
          },
          "metadata": {
            "needs_background": "light"
          }
        }
      ]
    },
    {
      "cell_type": "code",
      "source": [
        "from sklearn.feature_extraction.text import CountVectorizer\n",
        "clf_rf = Pipeline([\n",
        "    ('vectorizer', CountVectorizer(ngram_range = (1, 2))),                       \n",
        "    ('random_forest', (RandomForestClassifier()))  #RandomForestClassifier       \n",
        "])\n",
        "clf_rf.fit(X_train, Y_train)\n",
        "y_pred_rf = clf_rf.predict(X_test)\n",
        "print(classification_report(Y_test, y_pred_rf))"
      ],
      "metadata": {
        "colab": {
          "base_uri": "https://localhost:8080/"
        },
        "id": "GHcY6N_yTKvO",
        "outputId": "f60f96ac-b29b-40de-a4fd-e33ac5edb162"
      },
      "execution_count": 49,
      "outputs": [
        {
          "output_type": "stream",
          "name": "stdout",
          "text": [
            "              precision    recall  f1-score   support\n",
            "\n",
            "           0       0.86      0.84      0.85       542\n",
            "           1       0.90      0.83      0.86       475\n",
            "           2       0.90      0.90      0.90      1352\n",
            "           3       0.78      0.73      0.75       328\n",
            "           4       0.89      0.94      0.91      1159\n",
            "           5       0.80      0.78      0.79       144\n",
            "\n",
            "    accuracy                           0.88      4000\n",
            "   macro avg       0.85      0.84      0.84      4000\n",
            "weighted avg       0.88      0.88      0.88      4000\n",
            "\n"
          ]
        }
      ]
    },
    {
      "cell_type": "code",
      "source": [
        "cm_rf = confusion_matrix(Y_test, y_pred_rf)\n",
        "plt.figure(figsize = (10,7))\n",
        "sns.heatmap(cm_rf, annot=True, fmt='d')\n",
        "plt.xlabel('Prediction')\n",
        "plt.ylabel('Truth')"
      ],
      "metadata": {
        "colab": {
          "base_uri": "https://localhost:8080/",
          "height": 460
        },
        "id": "xDCU6Bd_TZcC",
        "outputId": "5cec4ca9-c931-4555-db4f-b2f3ec80d446"
      },
      "execution_count": 50,
      "outputs": [
        {
          "output_type": "execute_result",
          "data": {
            "text/plain": [
              "Text(69.0, 0.5, 'Truth')"
            ]
          },
          "metadata": {},
          "execution_count": 50
        },
        {
          "output_type": "display_data",
          "data": {
            "text/plain": [
              "<Figure size 720x504 with 2 Axes>"
            ],
            "image/png": "[encoded data removed]"
          },
          "metadata": {
            "needs_background": "light"
          }
        }
      ]
    },
    {
      "cell_type": "markdown",
      "source": [
        "# **MultiNomial NB (CountVectorizer)**"
      ],
      "metadata": {
        "id": "ksLWt48UTs6q"
      }
    },
    {
      "cell_type": "code",
      "source": [
        "clf_nb = Pipeline([\n",
        "    ('TF-IDF', CountVectorizer()), \n",
        "    ('MultinomialNB', (MultinomialNB())) #MultiNomialNB        \n",
        "])\n",
        "clf_nb.fit(X_train, Y_train)\n",
        "y_pred_nb = clf_nb.predict(X_test)\n",
        "print(classification_report(Y_test, y_pred_nb))"
      ],
      "metadata": {
        "colab": {
          "base_uri": "https://localhost:8080/"
        },
        "id": "aGhBInZETsg0",
        "outputId": "646d82a9-a791-462b-bdbc-faa966f1a22b"
      },
      "execution_count": 47,
      "outputs": [
        {
          "output_type": "stream",
          "name": "stdout",
          "text": [
            "              precision    recall  f1-score   support\n",
            "\n",
            "           0       0.86      0.67      0.76       542\n",
            "           1       0.85      0.63      0.73       475\n",
            "           2       0.76      0.94      0.84      1352\n",
            "           3       0.89      0.34      0.49       328\n",
            "           4       0.75      0.92      0.83      1159\n",
            "           5       0.95      0.12      0.22       144\n",
            "\n",
            "    accuracy                           0.78      4000\n",
            "   macro avg       0.85      0.60      0.64      4000\n",
            "weighted avg       0.80      0.78      0.76      4000\n",
            "\n"
          ]
        }
      ]
    },
    {
      "cell_type": "code",
      "source": [
        "cm_nb = confusion_matrix(Y_test, y_pred_nb)\n",
        "plt.figure(figsize = (10,7))\n",
        "sns.heatmap(cm_nb, annot=True, fmt='d')\n",
        "plt.xlabel('Prediction')\n",
        "plt.ylabel('Truth')"
      ],
      "metadata": {
        "colab": {
          "base_uri": "https://localhost:8080/",
          "height": 460
        },
        "id": "n2SI0d43T_9m",
        "outputId": "9753d2c6-185e-46ed-fed1-4f0c6de955e5"
      },
      "execution_count": 48,
      "outputs": [
        {
          "output_type": "execute_result",
          "data": {
            "text/plain": [
              "Text(69.0, 0.5, 'Truth')"
            ]
          },
          "metadata": {},
          "execution_count": 48
        },
        {
          "output_type": "display_data",
          "data": {
            "text/plain": [
              "<Figure size 720x504 with 2 Axes>"
            ],
            "image/png": "[encoded data removed]"
          },
          "metadata": {
            "needs_background": "light"
          }
        }
      ]
    },
    {
      "cell_type": "code",
      "source": [
        "clf_nb = Pipeline([\n",
        "    ('TF-IDF', CountVectorizer(ngram_range = (1,2))), \n",
        "    ('MultinomialNB', (MultinomialNB())) #MultiNomialNB        \n",
        "])\n",
        "clf_nb.fit(X_train, Y_train)\n",
        "y_pred_nb = clf_nb.predict(X_test)\n",
        "print(classification_report(Y_test, y_pred_nb))"
      ],
      "metadata": {
        "colab": {
          "base_uri": "https://localhost:8080/"
        },
        "id": "wX1Zl2o4ULOY",
        "outputId": "c4980be6-2808-44f1-c7e4-6cfb7dedb925"
      },
      "execution_count": 52,
      "outputs": [
        {
          "output_type": "stream",
          "name": "stdout",
          "text": [
            "              precision    recall  f1-score   support\n",
            "\n",
            "           0       0.95      0.54      0.69       542\n",
            "           1       0.89      0.55      0.68       475\n",
            "           2       0.72      0.97      0.83      1352\n",
            "           3       0.94      0.20      0.32       328\n",
            "           4       0.73      0.94      0.83      1159\n",
            "           5       0.94      0.12      0.21       144\n",
            "\n",
            "    accuracy                           0.76      4000\n",
            "   macro avg       0.86      0.55      0.59      4000\n",
            "weighted avg       0.80      0.76      0.73      4000\n",
            "\n"
          ]
        }
      ]
    },
    {
      "cell_type": "code",
      "source": [
        "cm_nb = confusion_matrix(Y_test, y_pred_nb)\n",
        "plt.figure(figsize = (10,7))\n",
        "sns.heatmap(cm_nb, annot=True, fmt='d')\n",
        "plt.xlabel('Prediction')\n",
        "plt.ylabel('Truth')"
      ],
      "metadata": {
        "colab": {
          "base_uri": "https://localhost:8080/",
          "height": 460
        },
        "id": "NP2Rsw_3ULHz",
        "outputId": "c94f537d-85e7-4b76-c780-f218f37d5b97"
      },
      "execution_count": 53,
      "outputs": [
        {
          "output_type": "execute_result",
          "data": {
            "text/plain": [
              "Text(69.0, 0.5, 'Truth')"
            ]
          },
          "metadata": {},
          "execution_count": 53
        },
        {
          "output_type": "display_data",
          "data": {
            "text/plain": [
              "<Figure size 720x504 with 2 Axes>"
            ],
            "image/png": "[encoded data removed]"
          },
          "metadata": {
            "needs_background": "light"
          }
        }
      ]
    },
    {
      "cell_type": "markdown",
      "source": [
        "\n",
        "\n",
        "#**Random Forest performed quite well when compared to Multinomial Naive Bayes.**\n"
      ],
      "metadata": {
        "id": "bCPZjkBqU4GY"
      }
    },
    {
      "cell_type": "code",
      "source": [
        "joy = emotion_df[emotion_df[\"Emotion\"]==2].sample(719)\n",
        "sadness = emotion_df[emotion_df[\"Emotion\"]==4].sample(719)\n",
        "fear = emotion_df[emotion_df[\"Emotion\"]==1].sample(719)\n",
        "love = emotion_df[emotion_df[\"Emotion\"]==3].sample(719)\n",
        "anger = emotion_df[emotion_df[\"Emotion\"]==0].sample(719)\n",
        "surprise = emotion_df[emotion_df[\"Emotion\"]==5].sample(719)\n",
        "df = pd.concat([joy, sadness, fear, love, anger, surprise], axis = 0)\n",
        "df.head()"
      ],
      "metadata": {
        "colab": {
          "base_uri": "https://localhost:8080/",
          "height": 206
        },
        "id": "5N0L_qq1VklK",
        "outputId": "64c7155c-f000-4d02-9914-03e1c30cbe4f"
      },
      "execution_count": 60,
      "outputs": [
        {
          "output_type": "execute_result",
          "data": {
            "text/plain": [
              "                                                 Comment  Emotion  \\\n",
              "10666  i feel increasingly energetic and comfortable ...        2   \n",
              "9070   i feel that your advice is only useful for the...        2   \n",
              "13636  i should say how i feel that he s perfect for ...        2   \n",
              "9680   i love my increased intense feeling of connect...        2   \n",
              "1468   im feeling optimistic to finish out these last...        2   \n",
              "\n",
              "                                    Comment_preprocessed  \n",
              "10666     feel increasingly energetic comfortable inside  \n",
              "9070                   feel advice useful people believe  \n",
              "13636                           feel s perfect love real  \n",
              "9680     love increase intense feeling connection divine  \n",
              "1468   m feel optimistic finish week strong probably ...  "
            ],
            "text/html": [
              "\n",
              "  <div id=\"df-b02ad082-625e-4f71-89df-229f32c9c0e6\">\n",
              "    <div class=\"colab-df-container\">\n",
              "      <div>\n",
              "<style scoped>\n",
              "    .dataframe tbody tr th:only-of-type {\n",
              "        vertical-align: middle;\n",
              "    }\n",
              "\n",
              "    .dataframe tbody tr th {\n",
              "        vertical-align: top;\n",
              "    }\n",
              "\n",
              "    .dataframe thead th {\n",
              "        text-align: right;\n",
              "    }\n",
              "</style>\n",
              "<table border=\"1\" class=\"dataframe\">\n",
              "  <thead>\n",
              "    <tr style=\"text-align: right;\">\n",
              "      <th></th>\n",
              "      <th>Comment</th>\n",
              "      <th>Emotion</th>\n",
              "      <th>Comment_preprocessed</th>\n",
              "    </tr>\n",
              "  </thead>\n",
              "  <tbody>\n",
              "    <tr>\n",
              "      <th>10666</th>\n",
              "      <td>i feel increasingly energetic and comfortable ...</td>\n",
              "      <td>2</td>\n",
              "      <td>feel increasingly energetic comfortable inside</td>\n",
              "    </tr>\n",
              "    <tr>\n",
              "      <th>9070</th>\n",
              "      <td>i feel that your advice is only useful for the...</td>\n",
              "      <td>2</td>\n",
              "      <td>feel advice useful people believe</td>\n",
              "    </tr>\n",
              "    <tr>\n",
              "      <th>13636</th>\n",
              "      <td>i should say how i feel that he s perfect for ...</td>\n",
              "      <td>2</td>\n",
              "      <td>feel s perfect love real</td>\n",
              "    </tr>\n",
              "    <tr>\n",
              "      <th>9680</th>\n",
              "      <td>i love my increased intense feeling of connect...</td>\n",
              "      <td>2</td>\n",
              "      <td>love increase intense feeling connection divine</td>\n",
              "    </tr>\n",
              "    <tr>\n",
              "      <th>1468</th>\n",
              "      <td>im feeling optimistic to finish out these last...</td>\n",
              "      <td>2</td>\n",
              "      <td>m feel optimistic finish week strong probably ...</td>\n",
              "    </tr>\n",
              "  </tbody>\n",
              "</table>\n",
              "</div>\n",
              "      <button class=\"colab-df-convert\" onclick=\"convertToInteractive('df-b02ad082-625e-4f71-89df-229f32c9c0e6')\"\n",
              "              title=\"Convert this dataframe to an interactive table.\"\n",
              "              style=\"display:none;\">\n",
              "        \n",
              "  <svg xmlns=\"http://www.w3.org/2000/svg\" height=\"24px\"viewBox=\"0 0 24 24\"\n",
              "       width=\"24px\">\n",
              "    <path d=\"M0 0h24v24H0V0z\" fill=\"none\"/>\n",
              "    <path d=\"M18.56 5.44l.94 2.06.94-2.06 2.06-.94-2.06-.94-.94-2.06-.94 2.06-2.06.94zm-11 1L8.5 8.5l.94-2.06 2.06-.94-2.06-.94L8.5 2.5l-.94 2.06-2.06.94zm10 10l.94 2.06.94-2.06 2.06-.94-2.06-.94-.94-2.06-.94 2.06-2.06.94z\"/><path d=\"M17.41 7.96l-1.37-1.37c-.4-.4-.92-.59-1.43-.59-.52 0-1.04.2-1.43.59L10.3 9.45l-7.72 7.72c-.78.78-.78 2.05 0 2.83L4 21.41c.39.39.9.59 1.41.59.51 0 1.02-.2 1.41-.59l7.78-7.78 2.81-2.81c.8-.78.8-2.07 0-2.86zM5.41 20L4 18.59l7.72-7.72 1.47 1.35L5.41 20z\"/>\n",
              "  </svg>\n",
              "      </button>\n",
              "      \n",
              "  <style>\n",
              "    .colab-df-container {\n",
              "      display:flex;\n",
              "      flex-wrap:wrap;\n",
              "      gap: 12px;\n",
              "    }\n",
              "\n",
              "    .colab-df-convert {\n",
              "      background-color: #E8F0FE;\n",
              "      border: none;\n",
              "      border-radius: 50%;\n",
              "      cursor: pointer;\n",
              "      display: none;\n",
              "      fill: #1967D2;\n",
              "      height: 32px;\n",
              "      padding: 0 0 0 0;\n",
              "      width: 32px;\n",
              "    }\n",
              "\n",
              "    .colab-df-convert:hover {\n",
              "      background-color: #E2EBFA;\n",
              "      box-shadow: 0px 1px 2px rgba(60, 64, 67, 0.3), 0px 1px 3px 1px rgba(60, 64, 67, 0.15);\n",
              "      fill: #174EA6;\n",
              "    }\n",
              "\n",
              "    [theme=dark] .colab-df-convert {\n",
              "      background-color: #3B4455;\n",
              "      fill: #D2E3FC;\n",
              "    }\n",
              "\n",
              "    [theme=dark] .colab-df-convert:hover {\n",
              "      background-color: #434B5C;\n",
              "      box-shadow: 0px 1px 3px 1px rgba(0, 0, 0, 0.15);\n",
              "      filter: drop-shadow(0px 1px 2px rgba(0, 0, 0, 0.3));\n",
              "      fill: #FFFFFF;\n",
              "    }\n",
              "  </style>\n",
              "\n",
              "      <script>\n",
              "        const buttonEl =\n",
              "          document.querySelector('#df-b02ad082-625e-4f71-89df-229f32c9c0e6 button.colab-df-convert');\n",
              "        buttonEl.style.display =\n",
              "          google.colab.kernel.accessAllowed ? 'block' : 'none';\n",
              "\n",
              "        async function convertToInteractive(key) {\n",
              "          const element = document.querySelector('#df-b02ad082-625e-4f71-89df-229f32c9c0e6');\n",
              "          const dataTable =\n",
              "            await google.colab.kernel.invokeFunction('convertToInteractive',\n",
              "                                                     [key], {});\n",
              "          if (!dataTable) return;\n",
              "\n",
              "          const docLinkHtml = 'Like what you see? Visit the ' +\n",
              "            '<a target=\"_blank\" href=https://colab.research.google.com/notebooks/data_table.ipynb>data table notebook</a>'\n",
              "            + ' to learn more about interactive tables.';\n",
              "          element.innerHTML = '';\n",
              "          dataTable['output_type'] = 'display_data';\n",
              "          await google.colab.output.renderOutput(dataTable, element);\n",
              "          const docLink = document.createElement('div');\n",
              "          docLink.innerHTML = docLinkHtml;\n",
              "          element.appendChild(docLink);\n",
              "        }\n",
              "      </script>\n",
              "    </div>\n",
              "  </div>\n",
              "  "
            ]
          },
          "metadata": {},
          "execution_count": 60
        }
      ]
    },
    {
      "cell_type": "code",
      "source": [
        "from sklearn.model_selection import train_test_split\n",
        "X_train, X_test, Y_train, Y_test = train_test_split(df[\"Comment_preprocessed\"], df[\"Emotion\"], test_size = 0.2, random_state = 52, stratify = df[\"Emotion\"])"
      ],
      "metadata": {
        "id": "2wC7TYG1WZ1w"
      },
      "execution_count": 61,
      "outputs": []
    },
    {
      "cell_type": "markdown",
      "source": [
        "# **Random Forest Classifier (UnderSampling)**"
      ],
      "metadata": {
        "id": "IR1MOk3xZeMQ"
      }
    },
    {
      "cell_type": "code",
      "source": [
        "clf_rf = Pipeline([\n",
        "    ('TF-IDF', TfidfVectorizer()),                       \n",
        "    ('random_forest', (RandomForestClassifier()))  #RandomForestClassifier       \n",
        "])\n",
        "clf_rf.fit(X_train, Y_train)\n",
        "y_pred_rf = clf_rf.predict(X_test)\n",
        "print(classification_report(Y_test, y_pred_rf))"
      ],
      "metadata": {
        "colab": {
          "base_uri": "https://localhost:8080/"
        },
        "id": "Q_lRNiEAYlS_",
        "outputId": "cd16971e-ed67-4270-deac-9d6fa02b949a"
      },
      "execution_count": 62,
      "outputs": [
        {
          "output_type": "stream",
          "name": "stdout",
          "text": [
            "              precision    recall  f1-score   support\n",
            "\n",
            "           0       0.85      0.76      0.80       143\n",
            "           1       0.88      0.75      0.81       144\n",
            "           2       0.69      0.62      0.66       144\n",
            "           3       0.76      0.90      0.82       144\n",
            "           4       0.71      0.76      0.73       144\n",
            "           5       0.87      0.96      0.91       144\n",
            "\n",
            "    accuracy                           0.79       863\n",
            "   macro avg       0.79      0.79      0.79       863\n",
            "weighted avg       0.79      0.79      0.79       863\n",
            "\n"
          ]
        }
      ]
    },
    {
      "cell_type": "code",
      "source": [
        "clf_rf = Pipeline([\n",
        "    ('TF-IDF', TfidfVectorizer(ngram_range = (1, 2))),                       \n",
        "    ('random_forest', (RandomForestClassifier()))  #RandomForestClassifier       \n",
        "])\n",
        "clf_rf.fit(X_train, Y_train)\n",
        "y_pred_rf = clf_rf.predict(X_test)\n",
        "print(classification_report(Y_test, y_pred_rf))"
      ],
      "metadata": {
        "colab": {
          "base_uri": "https://localhost:8080/"
        },
        "id": "0zhCt-CdYuCl",
        "outputId": "0a958cf5-3ee9-47ec-b661-81b5a08e44f5"
      },
      "execution_count": 68,
      "outputs": [
        {
          "output_type": "stream",
          "name": "stdout",
          "text": [
            "              precision    recall  f1-score   support\n",
            "\n",
            "           0       0.83      0.81      0.82       143\n",
            "           1       0.89      0.76      0.82       144\n",
            "           2       0.74      0.56      0.64       144\n",
            "           3       0.72      0.89      0.80       144\n",
            "           4       0.70      0.78      0.74       144\n",
            "           5       0.88      0.94      0.91       144\n",
            "\n",
            "    accuracy                           0.79       863\n",
            "   macro avg       0.79      0.79      0.79       863\n",
            "weighted avg       0.79      0.79      0.79       863\n",
            "\n"
          ]
        }
      ]
    },
    {
      "cell_type": "code",
      "source": [
        "from sklearn.feature_extraction.text import CountVectorizer\n",
        "clf_rf = Pipeline([\n",
        "    ('vectorizer', CountVectorizer()),                       \n",
        "    ('random_forest', (RandomForestClassifier()))  #RandomForestClassifier       \n",
        "])\n",
        "clf_rf.fit(X_train, Y_train)\n",
        "y_pred_rf = clf_rf.predict(X_test)\n",
        "print(classification_report(Y_test, y_pred_rf))"
      ],
      "metadata": {
        "colab": {
          "base_uri": "https://localhost:8080/"
        },
        "id": "2q44kcA1ZNAf",
        "outputId": "cacc77b8-7932-47dc-f1fe-0315c2c1bbfb"
      },
      "execution_count": 70,
      "outputs": [
        {
          "output_type": "stream",
          "name": "stdout",
          "text": [
            "              precision    recall  f1-score   support\n",
            "\n",
            "           0       0.88      0.80      0.84       143\n",
            "           1       0.85      0.78      0.82       144\n",
            "           2       0.75      0.55      0.63       144\n",
            "           3       0.73      0.86      0.79       144\n",
            "           4       0.65      0.79      0.71       144\n",
            "           5       0.89      0.92      0.90       144\n",
            "\n",
            "    accuracy                           0.78       863\n",
            "   macro avg       0.79      0.78      0.78       863\n",
            "weighted avg       0.79      0.78      0.78       863\n",
            "\n"
          ]
        }
      ]
    },
    {
      "cell_type": "code",
      "source": [
        "from sklearn.feature_extraction.text import CountVectorizer\n",
        "clf_rf = Pipeline([\n",
        "    ('vectorizer', CountVectorizer(ngram_range = (1,3))),                       \n",
        "    ('random_forest', (RandomForestClassifier()))  #RandomForestClassifier       \n",
        "])\n",
        "clf_rf.fit(X_train, Y_train)\n",
        "y_pred_rf = clf_rf.predict(X_test)\n",
        "print(classification_report(Y_test, y_pred_rf))"
      ],
      "metadata": {
        "colab": {
          "base_uri": "https://localhost:8080/"
        },
        "id": "5OiTLG2vZOgM",
        "outputId": "34e0772f-bd3d-4314-f5ca-e1be62e498de"
      },
      "execution_count": 71,
      "outputs": [
        {
          "output_type": "stream",
          "name": "stdout",
          "text": [
            "              precision    recall  f1-score   support\n",
            "\n",
            "           0       0.89      0.80      0.84       143\n",
            "           1       0.84      0.80      0.82       144\n",
            "           2       0.84      0.50      0.63       144\n",
            "           3       0.77      0.88      0.82       144\n",
            "           4       0.62      0.85      0.72       144\n",
            "           5       0.89      0.91      0.90       144\n",
            "\n",
            "    accuracy                           0.79       863\n",
            "   macro avg       0.81      0.79      0.79       863\n",
            "weighted avg       0.81      0.79      0.79       863\n",
            "\n"
          ]
        }
      ]
    },
    {
      "cell_type": "markdown",
      "source": [
        "# **MultiNomial NB (UnderSampling)**"
      ],
      "metadata": {
        "id": "5pfKagUIZUL1"
      }
    },
    {
      "cell_type": "code",
      "source": [
        "clf_nb = Pipeline([\n",
        "    ('TF-IDF', TfidfVectorizer()), \n",
        "    ('MultinomialNB', (MultinomialNB())) #MultiNomialNB        \n",
        "])\n",
        "clf_nb.fit(X_train, Y_train)\n",
        "y_pred_nb = clf_nb.predict(X_test)\n",
        "print(classification_report(Y_test, y_pred_nb))"
      ],
      "metadata": {
        "colab": {
          "base_uri": "https://localhost:8080/"
        },
        "id": "DnEkFPeeYzS1",
        "outputId": "cab7a8d6-8c14-4387-b656-41738f256e7c"
      },
      "execution_count": 64,
      "outputs": [
        {
          "output_type": "stream",
          "name": "stdout",
          "text": [
            "              precision    recall  f1-score   support\n",
            "\n",
            "           0       0.82      0.79      0.81       143\n",
            "           1       0.78      0.81      0.79       144\n",
            "           2       0.77      0.57      0.65       144\n",
            "           3       0.74      0.86      0.79       144\n",
            "           4       0.78      0.75      0.77       144\n",
            "           5       0.78      0.90      0.83       144\n",
            "\n",
            "    accuracy                           0.78       863\n",
            "   macro avg       0.78      0.78      0.78       863\n",
            "weighted avg       0.78      0.78      0.78       863\n",
            "\n"
          ]
        }
      ]
    },
    {
      "cell_type": "code",
      "source": [
        "clf_nb = Pipeline([\n",
        "    ('TF-IDF', TfidfVectorizer(ngram_range = (1,3))), \n",
        "    ('MultinomialNB', (MultinomialNB())) #MultiNomialNB        \n",
        "])\n",
        "clf_nb.fit(X_train, Y_train)\n",
        "y_pred_nb = clf_nb.predict(X_test)\n",
        "print(classification_report(Y_test, y_pred_nb))"
      ],
      "metadata": {
        "colab": {
          "base_uri": "https://localhost:8080/"
        },
        "id": "2QAzkDdRY4Nz",
        "outputId": "ef298cd6-f376-4736-dc60-bd1816b23474"
      },
      "execution_count": 69,
      "outputs": [
        {
          "output_type": "stream",
          "name": "stdout",
          "text": [
            "              precision    recall  f1-score   support\n",
            "\n",
            "           0       0.81      0.77      0.79       143\n",
            "           1       0.79      0.75      0.77       144\n",
            "           2       0.77      0.58      0.66       144\n",
            "           3       0.74      0.86      0.79       144\n",
            "           4       0.76      0.76      0.76       144\n",
            "           5       0.79      0.94      0.86       144\n",
            "\n",
            "    accuracy                           0.78       863\n",
            "   macro avg       0.78      0.78      0.77       863\n",
            "weighted avg       0.78      0.78      0.77       863\n",
            "\n"
          ]
        }
      ]
    },
    {
      "cell_type": "code",
      "source": [
        "clf_nb = Pipeline([\n",
        "    ('TF-IDF', CountVectorizer()), \n",
        "    ('MultinomialNB', (MultinomialNB())) #MultiNomialNB        \n",
        "])\n",
        "clf_nb.fit(X_train, Y_train)\n",
        "y_pred_nb = clf_nb.predict(X_test)\n",
        "print(classification_report(Y_test, y_pred_nb))"
      ],
      "metadata": {
        "colab": {
          "base_uri": "https://localhost:8080/"
        },
        "id": "5QW7Rfy0ZHkc",
        "outputId": "c404aba0-aaf3-4ecc-f19b-a8c12be781d6"
      },
      "execution_count": 72,
      "outputs": [
        {
          "output_type": "stream",
          "name": "stdout",
          "text": [
            "              precision    recall  f1-score   support\n",
            "\n",
            "           0       0.79      0.79      0.79       143\n",
            "           1       0.74      0.75      0.75       144\n",
            "           2       0.71      0.56      0.63       144\n",
            "           3       0.72      0.81      0.76       144\n",
            "           4       0.74      0.76      0.75       144\n",
            "           5       0.80      0.85      0.83       144\n",
            "\n",
            "    accuracy                           0.75       863\n",
            "   macro avg       0.75      0.75      0.75       863\n",
            "weighted avg       0.75      0.75      0.75       863\n",
            "\n"
          ]
        }
      ]
    },
    {
      "cell_type": "code",
      "source": [
        "clf_nb = Pipeline([\n",
        "    ('TF-IDF', CountVectorizer(ngram_range = (1,3))), \n",
        "    ('MultinomialNB', (MultinomialNB())) #MultiNomialNB        \n",
        "])\n",
        "clf_nb.fit(X_train, Y_train)\n",
        "y_pred_nb = clf_nb.predict(X_test)\n",
        "print(classification_report(Y_test, y_pred_nb))"
      ],
      "metadata": {
        "colab": {
          "base_uri": "https://localhost:8080/"
        },
        "id": "TxFqTeDeZpsc",
        "outputId": "dbf8d4ac-938c-45ae-ada7-cf9de098e63f"
      },
      "execution_count": 73,
      "outputs": [
        {
          "output_type": "stream",
          "name": "stdout",
          "text": [
            "              precision    recall  f1-score   support\n",
            "\n",
            "           0       0.78      0.76      0.77       143\n",
            "           1       0.74      0.73      0.74       144\n",
            "           2       0.74      0.58      0.65       144\n",
            "           3       0.73      0.83      0.78       144\n",
            "           4       0.73      0.73      0.73       144\n",
            "           5       0.79      0.89      0.84       144\n",
            "\n",
            "    accuracy                           0.75       863\n",
            "   macro avg       0.75      0.75      0.75       863\n",
            "weighted avg       0.75      0.75      0.75       863\n",
            "\n"
          ]
        }
      ]
    }
  ]
}